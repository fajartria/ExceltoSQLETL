{
 "cells": [
  {
   "cell_type": "code",
   "execution_count": null,
   "metadata": {},
   "outputs": [],
   "source": [
    "# Importing Packages\n",
    "\n",
    "import os\n",
    "import pandas as pd\n",
    "from datetime import datetime"
   ]
  },
  {
   "cell_type": "markdown",
   "metadata": {},
   "source": [
    "### 1) Specifying and Customizing the Files Directory"
   ]
  },
  {
   "cell_type": "code",
   "execution_count": null,
   "metadata": {},
   "outputs": [],
   "source": [
    "# Specify the directory of where the files are available\n",
    "directory = input(\"Enter directory of the existing files:\")\n",
    "directory = directory.replace(\"\\\\\" , \"/\")\n",
    "\n",
    "# Changing Directory\n",
    "wd = os.chdir(directory) \n",
    "\n",
    "# What are the files that is available within the directory\n",
    "print(\"List of Available Files within Directory\")\n",
    "files = os.listdir(wd) \n",
    "files"
   ]
  },
  {
   "cell_type": "markdown",
   "metadata": {},
   "source": [
    "### 2) Reading the Data from the Excel files and do some Transformation"
   ]
  },
  {
   "cell_type": "code",
   "execution_count": null,
   "metadata": {},
   "outputs": [],
   "source": [
    "# Create An empty DF\n",
    "df_total = pd.DataFrame()\n",
    "\n",
    "# User Input Variable to be added into the Data\n",
    "Base_Year = int(input(\"Enter Base Year:\"))\n",
    "Period = input(\"Enter Period: (Mid Year or End Year)\")\n",
    "Data_Source = input(\"Enter Data Source: (Open-Source or Internal)\")\n",
    "\n",
    "# Define the Time Boundary of the specified Base Year\n",
    "if Period == \"Year End\":\n",
    "    Time_Boundary = str(Base_Year + 1) + \"-01-01\"\n",
    "else:\n",
    "    Time_Boundary = str(Base_Year) + \"-07-01\"\n",
    "\n",
    "# Convert into Datetime format\n",
    "Time_Boundary = datetime.strptime(Time_Boundary, '%Y-%m-%d')\n",
    "\n",
    "# Checking the Time and it's data type\n",
    "print(type(Time_Boundary))\n",
    "print(Time_Boundary)\n",
    "\n",
    "\n",
    "# Loop through the list of files and load them into a DataFrame\n",
    "for file in files: \n",
    "    if file.startswith('~$'): # Ignore files that are currently opened\n",
    "        continue \n",
    "    if file.endswith('.xlsx'): # Only read Excel files (without Mqcro)\n",
    "        print(\"Reading File: \" + file)\n",
    "        excel_file = pd.ExcelFile(file)\n",
    "        sheets = excel_file.sheet_names\n",
    "        df_sheets = pd.DataFrame()\n",
    "        \n",
    "        # Loop Through the sheets of each file\n",
    "        for sheet in sheets:\n",
    "            dftemp = pd.DataFrame()\n",
    "            new = sheet.split('-')\n",
    "            if not len(new) == 2: # Only read Sheets that are formatted accordingly\n",
    "                continue\n",
    "            else: \n",
    "                df = excel_file.parse(sheet_name = sheet,skiprows=6, usecols=\"C:J\")\n",
    "                \n",
    "                df.columns = ['Date', 'Motorbikes', 'Commuters', 'Buses', 'Cars', 'Bikes', 'Walk', 'NA']\n",
    "                for i in range(len(df)): # Looping through each Row\n",
    "                    dfi = df.iloc[[i],]\n",
    "                    if dfi['Date'].dropna().empty == True : # Stop Looping if row reached end (No Date Data)\n",
    "                        break\n",
    "                    elif (dfi['Date'] < Time_Boundary).bool() == True: # Only read Data within the time boundary\n",
    "                        continue\n",
    "                    else:\n",
    "                        dftemp = dftemp.append(dfi)\n",
    "                dftemp['District'] = new[1]\n",
    "                \n",
    "                df_sheets = df_sheets.append(dftemp)\n",
    "                \n",
    "        dfinal = pd.DataFrame()\n",
    "        # Data Transformation, Unpivot and Pivot\n",
    "        for column in df_sheets[['Motorbikes', 'Commuters', 'Buses', 'Cars', 'Bikes', 'Walk', 'NA']]: #Loop each column\n",
    "            #Pivot each column\n",
    "            dfreshape = df_sheets.pivot(index='Date', columns='District')[column].reset_index()\n",
    "            dfreshape.columns.name = None\n",
    "            dfreshape = dfreshape.fillna(0)\n",
    "           \n",
    "            #Unpivot \n",
    "            dfreshape = dfreshape.melt(id_vars=['Date'], var_name='District', value_name=column)\n",
    "            dfinal['Date'] = dfreshape['Date']\n",
    "            dfinal[column] = dfreshape[column]\n",
    "            \n",
    "        dfinal['Region'] = new[0]\n",
    "        dfinal['District'] = dfreshape['District']\n",
    "        dfinal['Period'] = Period\n",
    "        dfinal['Base_Year'] = Base_Year\n",
    "        dfinal['Data_Source'] = Data_Source\n",
    "        \n",
    "        # Final Reshaped DataFrame\n",
    "        df_total = df_total.append(dfinal)\n",
    "\n",
    "print(\"Data Succesfully Extracted into a Dataframe!\")"
   ]
  },
  {
   "cell_type": "code",
   "execution_count": null,
   "metadata": {},
   "outputs": [],
   "source": [
    "# Check if there are NA Values within the Date Column\n",
    "df_total['Date'].isnull().sum()"
   ]
  },
  {
   "cell_type": "code",
   "execution_count": null,
   "metadata": {},
   "outputs": [],
   "source": [
    "# Fill Missing Values with 0\n",
    "df_total = df_total.fillna(0)"
   ]
  },
  {
   "cell_type": "code",
   "execution_count": null,
   "metadata": {},
   "outputs": [],
   "source": [
    "# Get the summary of the DF\n",
    "df_total.info()\n",
    "df_total"
   ]
  },
  {
   "cell_type": "markdown",
   "metadata": {},
   "source": [
    "### 3) Connecting Into The Database"
   ]
  },
  {
   "cell_type": "code",
   "execution_count": null,
   "metadata": {},
   "outputs": [],
   "source": [
    "# There are multiple packages to connect Python into a Database, in this case, Im using pyodbc\n",
    "import pyodbc\n",
    "\n",
    "# Specifiy Connection\n",
    "conn = pyodbc.connect('Driver={MyDrivertype};'\n",
    "                      'Server=Myserver;'\n",
    "                      'Database=Mydatabase;'\n",
    "                      'UID=MyUID;'\n",
    "                      'PWD=MyPWD')\n",
    "\n",
    "# Create Cursor to run SQL command\n",
    "cursor = conn.cursor()\n",
    "print(\"Connection Successful!\")"
   ]
  },
  {
   "cell_type": "markdown",
   "metadata": {},
   "source": [
    "### 4) Loading The Data into the Database"
   ]
  },
  {
   "cell_type": "code",
   "execution_count": null,
   "metadata": {},
   "outputs": [],
   "source": [
    "for row in df_total.itertuples():\n",
    "    cursor.execute(\"\"\"\n",
    "                INSERT INTO MyTable (\n",
    "                Date, \n",
    "                Motorbikes, \n",
    "                Commuters,\n",
    "                Buses,\n",
    "                Cars,\n",
    "                Bikes,\n",
    "                Walks,\n",
    "                N/A,\n",
    "                Region,\n",
    "                District,\n",
    "                Period,\n",
    "                Base_Year,\n",
    "                Data_Source)\n",
    "                VALUES (?,?,?,?,?,?,?,?,?,?,?,?,?)\n",
    "                \"\"\",\n",
    "                row.Date, \n",
    "                row.Motorbikes,\n",
    "                row.Commuters,\n",
    "                row.Buses,\n",
    "                row.Cars,\n",
    "                row.Bikes,\n",
    "                row.Walks,\n",
    "                row.NA,\n",
    "                row.Region,\n",
    "                row.District,\n",
    "                row.Period,\n",
    "                row.Base_Year,\n",
    "                row.Data_Source\n",
    "                )\n",
    "conn.commit()\n",
    "print(\"Data Successfully Inserted Into The Database\")"
   ]
  },
  {
   "cell_type": "code",
   "execution_count": null,
   "metadata": {},
   "outputs": [],
   "source": [
    "# Check to See Inserted Data\n",
    "\n",
    "sql_query = pd.read_sql_query('SELECT * FROM MyTable WHERE Base_Year = (?) AND Period = (?)',conn, params = (Base_Year, Period))\n",
    "print(sql_query)"
   ]
  },
  {
   "cell_type": "code",
   "execution_count": null,
   "metadata": {},
   "outputs": [],
   "source": [
    "# Close Connection after finish\n",
    "conn.close()\n",
    "print(\"Connection Closed!\")"
   ]
  }
 ],
 "metadata": {
  "kernelspec": {
   "display_name": "Python 3",
   "language": "python",
   "name": "python3"
  },
  "language_info": {
   "codemirror_mode": {
    "name": "ipython",
    "version": 3
   },
   "file_extension": ".py",
   "mimetype": "text/x-python",
   "name": "python",
   "nbconvert_exporter": "python",
   "pygments_lexer": "ipython3",
   "version": "3.7.4"
  }
 },
 "nbformat": 4,
 "nbformat_minor": 4
}
